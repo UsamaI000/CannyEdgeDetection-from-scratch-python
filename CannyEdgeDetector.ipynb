{
 "cells": [
  {
   "cell_type": "code",
   "execution_count": null,
   "metadata": {},
   "outputs": [],
   "source": [
    "import cv2\n",
    "import numpy as np\n",
    "import matplotlib.pyplot as plt\n",
    "import math"
   ]
  },
  {
   "cell_type": "code",
   "execution_count": null,
   "metadata": {},
   "outputs": [],
   "source": [
    "def sHalf(T, sigma):\n",
    "    temp = -np.log(T) * 2 * (sigma ** 2)\n",
    "    return np.round(np.sqrt(temp))\n",
    "\n",
    "def calculate_filter_size(T, sigma):\n",
    "    return 2*sHalf(T, sigma) + 1"
   ]
  },
  {
   "cell_type": "code",
   "execution_count": null,
   "metadata": {},
   "outputs": [],
   "source": [
    "def MaskGeneration(T, sigma):\n",
    "    N = calculate_filter_size(T, sigma)\n",
    "    shalf = sHalf(T, sigma)\n",
    "    x, y = np.meshgrid(range(-int(shalf), int(shalf) + 1), range(-int(shalf), int(shalf) + 1))\n",
    "    return x, y"
   ]
  },
  {
   "cell_type": "code",
   "execution_count": null,
   "metadata": {},
   "outputs": [],
   "source": [
    "def Gaussian(x,y, sigma):\n",
    "    temp = ((x ** 2) + (y ** 2)) / (2 * (sigma ** 2))\n",
    "    return (np.exp(-temp))\n",
    "\n",
    "def calculate_gradient_X(x,y, sigma):\n",
    "    temp = (x ** 2 + y ** 2) / (2 * sigma ** 2)\n",
    "    return -((x * np.exp(-temp)) / sigma ** 2)\n",
    "\n",
    "def calculate_gradient_Y(x,y, sigma):\n",
    "    temp = (x ** 2 + y ** 2) / (2 * sigma ** 2)\n",
    "    return -((y * np.exp(-temp)) / sigma ** 2)"
   ]
  },
  {
   "cell_type": "code",
   "execution_count": null,
   "metadata": {},
   "outputs": [],
   "source": [
    "def pad(img, kernel):\n",
    "    r, c = img.shape\n",
    "    kr, kc = kernel.shape\n",
    "    padded = np.zeros((r + kr,c + kc), dtype=img.dtype)\n",
    "    insert = np.uint((kr)/2)\n",
    "    padded[insert: insert + r, insert: insert + c] = img\n",
    "    return padded\n",
    "            \n",
    "def smooth(img, kernel=None):\n",
    "    if kernel is None:\n",
    "        mask = np.array([[1,1,1],[1,1,1],[1,1,1]])\n",
    "    else:\n",
    "        mask = kernel\n",
    "    i, j = mask.shape\n",
    "    output = np.zeros((img.shape[0], img.shape[1]))           \n",
    "    image_padded = pad(img, mask)\n",
    "    for x in range(img.shape[0]):    \n",
    "        for y in range(img.shape[1]):\n",
    "            output[x, y] = (mask * image_padded[x:x+i, y:y+j]).sum() / mask.sum()  \n",
    "    return output\n"
   ]
  },
  {
   "cell_type": "code",
   "execution_count": null,
   "metadata": {},
   "outputs": [],
   "source": [
    "def Create_Gx(fx, fy):\n",
    "    for i in range(x.shape[0]):\n",
    "        for j in range(x.shape[1]):\n",
    "            fx[i, j] = calculate_gradient_X(x[i, j], y[i, j], sigma)\n",
    "    gx = np.round((fx * 255)/fx.min())\n",
    "    gx = np.array(gx)\n",
    "    return gx\n",
    "\n",
    "def Create_Gy(fx, fy):    \n",
    "    for i in range(y.shape[0]):\n",
    "        for j in range(y.shape[1]):\n",
    "            fy[i, j] = calculate_gradient_Y(x[i, j], y[i, j], sigma)\n",
    "    gy = np.round(fy * 255/fy.min())\n",
    "    gy = np.array(gy)\n",
    "    return gy"
   ]
  },
  {
   "cell_type": "code",
   "execution_count": null,
   "metadata": {},
   "outputs": [],
   "source": [
    "def ApplyMask(image, kernel):\n",
    "    i, j = kernel.shape\n",
    "    kernel = np.flipud(np.fliplr(kernel))    \n",
    "    output = np.zeros_like(image)           \n",
    "    image_padded = pad(image, kernel)\n",
    "    for x in range(image.shape[0]):    \n",
    "        for y in range(image.shape[1]):\n",
    "            output[x, y] = (kernel * image_padded[x:x+i, y:y+j]).sum()        \n",
    "    return output"
   ]
  },
  {
   "cell_type": "code",
   "execution_count": null,
   "metadata": {},
   "outputs": [],
   "source": [
    "def Gradient_Magnitude(fx, fy):\n",
    "    mag = np.zeros((fx.shape[0], fx.shape[1]))\n",
    "    mag = np.sqrt((fx ** 2) + (fy ** 2))\n",
    "    mag *= 255 / mag.max()\n",
    "    return mag\n",
    "\n",
    "def Gradient_Direction(fx, fy):\n",
    "    g_dir = np.zeros((fx.shape[0], fx.shape[1]))\n",
    "    g_dir = np.rad2deg(np.arctan2(fx, fy)) + 180\n",
    "    return g_dir * 255 / g_dir.max()"
   ]
  },
  {
   "cell_type": "code",
   "execution_count": null,
   "metadata": {},
   "outputs": [],
   "source": [
    "def Digitize_angle(Angle):\n",
    "    quantized = np.zeros((Angle.shape[0], Angle.shape[1]))\n",
    "    for i in range(Angle.shape[0]):\n",
    "        for j in range(Angle.shape[1]):\n",
    "            if 0 <= Angle[i, j] <= 22.5 or 157.5 <= Angle[i, j] <= 202.5 or 337.5 < Angle[i, j] < 360:\n",
    "                quantized[i, j] = 0\n",
    "            elif 22.5 <= Angle[i, j] <= 67.5 or 202.5 <= Angle[i, j] <= 247.5:\n",
    "                quantized[i, j] = 1\n",
    "            elif 67.5 <= Angle[i, j] <= 122.5 or 247.5 <= Angle[i, j] <= 292.5:\n",
    "                quantized[i, j] = 2\n",
    "            elif 112.5 <= Angle[i, j] <= 157.5 or 292.5 <= Angle[i, j] <= 337.5:\n",
    "                quantized[i, j] = 3\n",
    "    return quantized\n",
    "    \n",
    "def Non_Max_Supp(quantized, mag):\n",
    "    a, b = mag.shape\n",
    "    quant = np.zeros((quantized.shape[0], quantized.shape[1]), np.uint8)\n",
    "    for i in range(1, quantized.shape[0]-1):\n",
    "        for j in range(1, quantized.shape[1]-1):   \n",
    "            if quantized[i,j] == 0:\n",
    "                if mag[i,j] >= mag[i, j+1] and mag[i,j] >= mag[i, j-1]:\n",
    "                    quant[i, j] = mag[i, j]\n",
    "                else:\n",
    "                    quant[i, j] = 0 \n",
    "            if quantized[i,j] == 1:\n",
    "                if mag[i,j] >= mag[i-1, j+1] and mag[i,j] >= mag[i+1, j-1]:\n",
    "                    quant[i, j] = mag[i, j]\n",
    "                else:\n",
    "                    quant[i, j] = 0\n",
    "            if quantized[i,j] == 2:\n",
    "                if mag[i,j] >= mag[i-1, j] and mag[i,j] >= mag[i+1, j]:\n",
    "                    quant[i, j] = mag[i, j]\n",
    "                else:\n",
    "                    quant[i, j] = 0\n",
    "            if quantized[i,j] == 3:\n",
    "                if mag[i, j] >= mag[i-1,j-1] and mag[i, j] >= mag[i+1,j+1]:\n",
    "                    quant[i, j] = mag[i, j]\n",
    "                else:\n",
    "                    quant[i, j] = 0\n",
    "    return quant"
   ]
  },
  {
   "cell_type": "code",
   "execution_count": null,
   "metadata": {},
   "outputs": [],
   "source": [
    "def _double_thresholding(g_suppressed, low_threshold, high_threshold):\n",
    "    g_thresholded = np.zeros(g_suppressed.shape)\n",
    "    for i in range(0, g_suppressed.shape[0]):\t\t# loop over pixels\n",
    "        for j in range(0, g_suppressed.shape[1]):\n",
    "            if g_suppressed[i,j] < low_threshold:\t# lower than low threshold\n",
    "                g_thresholded[i,j] = 0\n",
    "            elif g_suppressed[i,j] >= low_threshold and g_suppressed[i,j] < high_threshold: \t# between thresholds\n",
    "                g_thresholded[i,j] = 128\n",
    "            else:\t\t\t\t\t        # higher than high threshold\n",
    "                g_thresholded[i,j] = 255\n",
    "    return g_thresholded\n",
    "\n",
    "def _hysteresis(g_thresholded):\n",
    "    g_strong = np.zeros(g_thresholded.shape)\n",
    "    for i in range(0, g_thresholded.shape[0]):\t\t# loop over pixels\n",
    "        for j in range(0, g_thresholded.shape[1]):\n",
    "            val = g_thresholded[i,j]\n",
    "            if val == 128:\t\t\t# check if weak edge connected to strong\n",
    "                if g_thresholded[i-1,j] == 255 or g_thresholded[i+1,j] == 255 or g_thresholded[i-1,j-1] == 255 or g_thresholded[i+1,j-1] == 255 or g_thresholded[i-1,j+1] == 255 or g_thresholded[i+1,j+1] == 255 or g_thresholded[i,j-1] == 255 or g_thresholded[i,j+1] == 255:\n",
    "                    g_strong[i,j] = 255\t\t# replace weak edge as strong\n",
    "            elif val == 255:\n",
    "                g_strong[i,j] = 255\t\t# strong edge remains as strong edge\n",
    "    return g_strong"
   ]
  },
  {
   "cell_type": "markdown",
   "metadata": {},
   "source": [
    "# Step 1 Specify sigma and T value Also calculate Gradient masks\n",
    "Here you will give the values of sigma and T(0-1). This will create the size of filter automatically. We generate gradient masks in x and y directions i.e. Gx and Gy"
   ]
  },
  {
   "cell_type": "code",
   "execution_count": null,
   "metadata": {},
   "outputs": [],
   "source": [
    "sigma = 1\n",
    "T = 0.3\n",
    "x, y = MaskGeneration(T, sigma)\n",
    "gauss = Gaussian(x, y, sigma)\n",
    "\n",
    "fx = np.zeros((x.shape[0], x.shape[1]))\n",
    "fy = np.zeros((y.shape[0], y.shape[1]))\n",
    "\n",
    "gx = Create_Gx(fx, fy)\n",
    "gy = Create_Gy(fx, fy)"
   ]
  },
  {
   "cell_type": "markdown",
   "metadata": {},
   "source": [
    "# Step 2 Reading and converting image into grayscale\n",
    "Here we convert the image into grayscale image for easy processing and finding edges"
   ]
  },
  {
   "cell_type": "code",
   "execution_count": null,
   "metadata": {
    "scrolled": false
   },
   "outputs": [],
   "source": [
    "image = cv2.imread('mecca06.jpg')\n",
    "gray = cv2.cvtColor(image, cv2.COLOR_BGR2GRAY)\n",
    "plt.figure(figsize = (8,8))\n",
    "plt.imshow(gray, cmap='gray')\n",
    "plt.show()"
   ]
  },
  {
   "cell_type": "markdown",
   "metadata": {},
   "source": [
    "## Smoothing\n",
    "Here we smooth the image to reduce the intensity in the pixels"
   ]
  },
  {
   "cell_type": "code",
   "execution_count": null,
   "metadata": {
    "scrolled": false
   },
   "outputs": [],
   "source": [
    "smooth_img = smooth(gray, gauss)\n",
    "plt.figure(figsize = (8,8))\n",
    "plt.imshow(smooth_img, cmap='gray')"
   ]
  },
  {
   "cell_type": "markdown",
   "metadata": {},
   "source": [
    "# Step 3 Applying the Gradient masks\n",
    "In this step we apply the gradient x and y masks on the image."
   ]
  },
  {
   "cell_type": "code",
   "execution_count": null,
   "metadata": {},
   "outputs": [],
   "source": [
    "fx = ApplyMask(smooth_img, gx)\n",
    "plt.figure(figsize = (8,8))\n",
    "plt.imshow(fx, cmap='gray')"
   ]
  },
  {
   "cell_type": "code",
   "execution_count": null,
   "metadata": {},
   "outputs": [],
   "source": [
    "fy = ApplyMask(smooth_img, gy)\n",
    "plt.figure(figsize = (8,8))\n",
    "plt.imshow(fy, cmap='gray')"
   ]
  },
  {
   "cell_type": "markdown",
   "metadata": {},
   "source": [
    "# Step 4 Gradient magnitude\n",
    "In this step we calculate the gradient magnitude at every pixel location"
   ]
  },
  {
   "cell_type": "code",
   "execution_count": null,
   "metadata": {},
   "outputs": [],
   "source": [
    "mag = Gradient_Magnitude(fx, fy)\n",
    "mag = mag.astype(int)\n",
    "plt.figure(figsize = (8,8))\n",
    "plt.imshow(mag, cmap='gray')\n",
    "print('max', mag.max())\n",
    "print('min', mag.min())"
   ]
  },
  {
   "cell_type": "markdown",
   "metadata": {},
   "source": [
    "# STEP 5 Gradient Direction\n",
    "In this step we find direction of gradient at each pixel of the image."
   ]
  },
  {
   "cell_type": "code",
   "execution_count": null,
   "metadata": {
    "scrolled": false
   },
   "outputs": [],
   "source": [
    "Angle = Gradient_Direction(fx, fy)\n",
    "plt.figure(figsize = (5,5))\n",
    "plt.imshow(Angle, cmap='gray')\n",
    "print('max', Angle.max())\n",
    "print('min', Angle.min())"
   ]
  },
  {
   "cell_type": "markdown",
   "metadata": {},
   "source": [
    "# Step 6 Quantization of angles and Non-Max Suppression\n",
    "In this step we quantize our angles into 4 groups 0, 1, 2, 3. Then we apply non-maximum suppression on it to make the edges thin"
   ]
  },
  {
   "cell_type": "code",
   "execution_count": null,
   "metadata": {},
   "outputs": [],
   "source": [
    "quantized = Digitize_angle(Angle)\n",
    "nms = Non_Max_Supp(quantized, mag)\n",
    "plt.figure(figsize = (10,10))\n",
    "plt.imshow(nms, cmap='gray')\n",
    "print('max', nms.max())\n",
    "print('min', nms.min())"
   ]
  },
  {
   "cell_type": "markdown",
   "metadata": {},
   "source": [
    "# Step 7 Double Threshold and Hysteresis\n",
    "In this step we apply double threshold Tl and Th to our non-maximum suppressed images. After that we apply Hysteresis algorithm to get resultant edges of the image."
   ]
  },
  {
   "cell_type": "code",
   "execution_count": null,
   "metadata": {},
   "outputs": [],
   "source": [
    "threshold = _double_thresholding(nms, 10, 20)\n",
    "cv2.imwrite('double_thresholded.jpg', threshold )\n",
    "plt.figure(figsize = (10,10))\n",
    "plt.imshow(threshold, cmap='gray')"
   ]
  },
  {
   "cell_type": "code",
   "execution_count": null,
   "metadata": {},
   "outputs": [],
   "source": [
    "hys = _hysteresis(threshold)\n",
    "cv2.imwrite('Result.jpg', hys)\n",
    "plt.figure(figsize = (10,10))\n",
    "plt.imshow(hys, cmap='gray')"
   ]
  }
 ],
 "metadata": {
  "kernelspec": {
   "display_name": "Python 3",
   "language": "python",
   "name": "python3"
  },
  "language_info": {
   "codemirror_mode": {
    "name": "ipython",
    "version": 3
   },
   "file_extension": ".py",
   "mimetype": "text/x-python",
   "name": "python",
   "nbconvert_exporter": "python",
   "pygments_lexer": "ipython3",
   "version": "3.7.1"
  }
 },
 "nbformat": 4,
 "nbformat_minor": 2
}
